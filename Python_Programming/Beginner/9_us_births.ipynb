{
 "cells": [
  {
   "cell_type": "code",
   "execution_count": 67,
   "metadata": {
    "collapsed": false
   },
   "outputs": [
    {
     "name": "stdout",
     "output_type": "stream",
     "text": [
      "[[1994, 1, 1, 6, 8096], [1994, 1, 2, 7, 7772], [1994, 1, 3, 1, 10142], [1994, 1, 4, 2, 11248], [1994, 1, 5, 3, 11053], [1994, 1, 6, 4, 11406], [1994, 1, 7, 5, 11251], [1994, 1, 8, 6, 8653], [1994, 1, 9, 7, 7910], [1994, 1, 10, 1, 10498]]\n",
      "{'1': 98029}\n",
      "{1: 20640, 2: 11248, 3: 11053, 4: 11406, 5: 11251, 6: 16749, 7: 15682}\n",
      "('yearly: ', {1994: 98029})\n",
      "('monthly: ', {1: 98029})\n",
      "('dayofmonth: ', {1: 8096, 2: 7772, 3: 10142, 4: 11248, 5: 11053, 6: 11406, 7: 11251, 8: 8653, 9: 7910, 10: 10498})\n",
      "('weekly: ', {1: 20640, 2: 11248, 3: 11053, 4: 11406, 5: 11251, 6: 16749, 7: 15682})\n"
     ]
    }
   ],
   "source": [
    "def read_csv(filename):\n",
    "    \n",
    "    try:\n",
    "        if filename==\"\":\n",
    "            print(\"No file was provided:\")\n",
    "            exit(1)\n",
    "        else:\n",
    "            f=open(filename,\"r\").read()\n",
    "    except Exception as e:\n",
    "        print (e)\n",
    "        exit(1)\n",
    "        \n",
    "    string_list=list(f.split(\"\\n\"))\n",
    "    string_list=string_list[1:]\n",
    "    final_list=[]\n",
    "    \n",
    "    for item in string_list:\n",
    "        string_fields=item.split(\",\")\n",
    "        int_fields=[]\n",
    "        for k,items in enumerate(string_fields):\n",
    "            try:\n",
    "                int_fields.append(int(items))\n",
    "            except:\n",
    "                pass\n",
    "        final_list.append(int_fields)      \n",
    "    return final_list  \n",
    "\n",
    "def month_births(lstname):\n",
    "    births_per_month={}\n",
    "    for record in lstname:\n",
    "        if str(record[1])  in births_per_month:\n",
    "            births_per_month[str(record[1])] += int(record[4])\n",
    "        else:\n",
    "            births_per_month[str(record[1])] = int(record[4])\n",
    "    return births_per_month\n",
    "\n",
    "def dow_births(lstname):\n",
    "    day_of_sum={}\n",
    "    for row in lstname:\n",
    "        if row[3] in day_of_sum:\n",
    "            day_of_sum[row[3]] +=row[4]\n",
    "        else:\n",
    "            day_of_sum[row[3]] =row[4]\n",
    "    return day_of_sum        \n",
    "def calc_counts(lstname,column):\n",
    "    t_sum={}\n",
    "    for row in lstname:\n",
    "        if row[column] in t_sum:\n",
    "            t_sum[row[column]] +=row[4]\n",
    "        else:\n",
    "            t_sum[row[column]] =row[4]\n",
    "    return t_sum \n",
    "    \n",
    "        \n",
    "cdc_list=read_csv(\"/home/santosh/US_births_1994_2003_CDC_NCHS.csv\") \n",
    "print(cdc_list[:10])\n",
    "cdc_month_births = month_births(cdc_list[:10])\n",
    "print(cdc_month_births)\n",
    "cdc_day_births=dow_births(cdc_list[:10])\n",
    "print(cdc_day_births)\n",
    "#==============================with calc_counts methods===============\n",
    "cdc_year_births=calc_counts(cdc_list[:10],0)\n",
    "cdc_month_births=calc_counts(cdc_list[:10],1)\n",
    "cdc_dom_births=calc_counts(cdc_list[:10],2)\n",
    "cdc_dow_births=calc_counts(cdc_list[:10],3)\n",
    "print(\"yearly: \", cdc_year_births)\n",
    "print(\"monthly: \", cdc_month_births)\n",
    "print(\"dayofmonth: \", cdc_dom_births)\n",
    "print(\"weekly: \", cdc_dow_births)"
   ]
  }
 ],
 "metadata": {
  "anaconda-cloud": {},
  "kernelspec": {
   "display_name": "Python [conda root]",
   "language": "python",
   "name": "conda-root-py"
  },
  "language_info": {
   "codemirror_mode": {
    "name": "ipython",
    "version": 2
   },
   "file_extension": ".py",
   "mimetype": "text/x-python",
   "name": "python",
   "nbconvert_exporter": "python",
   "pygments_lexer": "ipython2",
   "version": "2.7.13"
  }
 },
 "nbformat": 4,
 "nbformat_minor": 2
}
